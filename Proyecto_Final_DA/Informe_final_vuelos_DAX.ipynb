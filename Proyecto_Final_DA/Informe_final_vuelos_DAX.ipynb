DAX_Calendario = 
ADDCOLUMNS (
CALENDAR (MIN(Vuelo[Fecha]), MAX(Vuelo[Fecha])),
"Id Fecha", FORMAT ( [Date], "YYYYMMDD" ),
"Day", FORMAT ( [Date], "DD" ),
"Nombre Corto Mes", FORMAT ( [Date], "mmm" ),
"Día Semana número", WEEKDAY ( [Date] ),
"Día Semana ", FORMAT ( [Date], "dddd" ),
"Día Semana Corto", FORMAT ( [Date], "ddd" ),
"Trimestre", "Q" & FORMAT ( [Date], "Q" ),
"Año", YEAR ( [Date] ),
"Año/trimestre", FORMAT ( [Date], "YYYY" ) & "/Q" & FORMAT ( [Date], "Q" ),
"Mes", FORMAT ( [Date], "MM" )
)

DAX_MedCal_Individual_aeropuerto = UNION(
ADDCOLUMNS(
Vuelo,
"aeropuerto",
Vuelo[id_aeropuerto_destino]),
ADDCOLUMNS(
Vuelo,
"aeropuerto",
Vuelo[id_aeropuerto_origen]))

ModaOrigenInterncional = 
  CALCULATE( MAX(Vuelo[Aeropuerto_origen] ),
 TOPN( 1, VALUES(Vuelo[Aeropuerto_origen]) , [Conteo])
 )

DAX_ModaDestinoDomestico = 
 CALCULATE( MAX(Vuelo[Aeropuerto_destino] ),
 TOPN( 1, VALUES(Vuelo[Aeropuerto_destino]) , [Conteo])
 )

DAX_Compara_LY = CALCULATE(COUNT(Vuelo[id_vuelo]), SAMEPERIODLASTYEAR( 'DAX_Calendario'[Date]))

DAX_Compara AY = CALCULATE(COUNT(Vuelo[id_vuelo])-DAX_MedidasCalculadas[DAX_Compara_LY])
